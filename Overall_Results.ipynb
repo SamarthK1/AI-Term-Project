{
 "cells": [
  {
   "cell_type": "markdown",
   "metadata": {},
   "source": [
    "# Evaluate Results\n",
    "- This file takes the best models for each algorithm implementation and compares them."
   ]
  },
  {
   "cell_type": "markdown",
   "metadata": {},
   "source": [
    "## Load the Test Data"
   ]
  },
  {
   "cell_type": "code",
   "execution_count": 3,
   "metadata": {},
   "outputs": [],
   "source": [
    "import pandas as pd\n",
    "\n",
    "# Load test data\n",
    "test_data = pd.read_csv('test_data.csv')\n",
    "X_test = test_data['X_test'].tolist()\n",
    "y_test = test_data['y_test'].tolist()"
   ]
  },
  {
   "cell_type": "markdown",
   "metadata": {},
   "source": [
    "## Get the Predictions"
   ]
  },
  {
   "cell_type": "code",
   "execution_count": null,
   "metadata": {},
   "outputs": [],
   "source": [
    "from all_models import mlp, naive_bayes, logistic_regression, svm, decision_tree\n",
    "\n",
    "# Load the best model predictions\n",
    "svm_pred = svm()\n",
    "tree_pred = decision_tree()\n",
    "mlp_pred = mlp()\n",
    "lr_pred, lr_loss = logistic_regression()\n",
    "nb_pred = naive_bayes()\n",
    "\n",
    "\n",
    "# All predictions on a single data structure\n",
    "predictions = { \n",
    "               'SVM': svm_pred,\n",
    "               'Decision Tree': tree_pred,\n",
    "               'MLP': mlp_pred,\n",
    "               'Logistic Regression': lr_pred,\n",
    "               'Naive Bayes': nb_pred\n",
    "               }"
   ]
  },
  {
   "cell_type": "markdown",
   "metadata": {},
   "source": [
    "## Evaluate the Results\n",
    "- Classification report for each model\n",
    "- Consolidated Graph with Accuracy F1 Score"
   ]
  },
  {
   "cell_type": "code",
   "execution_count": null,
   "metadata": {},
   "outputs": [],
   "source": [
    "from sklearn.metrics import classification_report, accuracy_score, recall_score, f1_score\n",
    "\n",
    "# Calculate the accuracy for each\n",
    "models_accuracy = { \n",
    "               'SVM': accuracy_score(y_test, svm_pred),\n",
    "               'Decision Tree': accuracy_score(y_test,tree_pred),\n",
    "               'MLP': accuracy_score(y_test,mlp_pred),\n",
    "               'Logistic Regression': accuracy_score(y_test,lr_pred)\n",
    "}\n",
    "\n",
    "models_f1score = { \n",
    "               'SVM': f1_score(y_test, svm_pred),\n",
    "               'Decision Tree': f1_score(y_test,tree_pred),\n",
    "               'MLP': f1_score(y_test,mlp_pred),\n",
    "               'Logistic Regression': f1_score(y_test,lr_pred)\n",
    "}\n",
    "\n",
    "# Prin the Classification Report \n",
    "for key, value in predictions.items():\n",
    "    print(f'Model {key}: ')\n",
    "    print(f'Classification Report: \\n {classification_report(y_test, value)}')"
   ]
  }
 ],
 "metadata": {
  "kernelspec": {
   "display_name": ".venv",
   "language": "python",
   "name": "python3"
  },
  "language_info": {
   "codemirror_mode": {
    "name": "ipython",
    "version": 3
   },
   "file_extension": ".py",
   "mimetype": "text/x-python",
   "name": "python",
   "nbconvert_exporter": "python",
   "pygments_lexer": "ipython3",
   "version": "3.9.6"
  }
 },
 "nbformat": 4,
 "nbformat_minor": 2
}
