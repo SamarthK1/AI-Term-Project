{
 "cells": [
  {
   "cell_type": "markdown",
   "metadata": {},
   "source": [
    "# Random Baseline\n",
    "- This Random baseline will help us compare the performance of our Machine Learning algorithms"
   ]
  },
  {
   "cell_type": "markdown",
   "metadata": {},
   "source": [
    "## Load the Data"
   ]
  },
  {
   "cell_type": "code",
   "execution_count": 5,
   "metadata": {},
   "outputs": [],
   "source": [
    "import pandas as pd\n",
    "import ast\n",
    "\n",
    "# Load training data\n",
    "# train_data = pd.read_csv('train_data.csv')\n",
    "# X_train_raw = train_data['X_train'].tolist()\n",
    "# y_train_raw = train_data['y_train'].tolist()\n",
    "\n",
    "# Load test data\n",
    "test_data = pd.read_csv('test_data.csv')\n",
    "# X_test_raw = test_data['X_test'].tolist()\n",
    "y_test_raw = test_data['y_test'].tolist()\n",
    "\n",
    "#Make it a list\n",
    "# X_train_raw = [ast.literal_eval(item) if isinstance(item, str) else item for item in X_train_raw]\n",
    "# X_test_raw = [ast.literal_eval(item) if isinstance(item, str) else item for item in X_test_raw]"
   ]
  },
  {
   "cell_type": "markdown",
   "metadata": {},
   "source": [
    "## Random Baseline Model"
   ]
  },
  {
   "cell_type": "code",
   "execution_count": 15,
   "metadata": {},
   "outputs": [],
   "source": [
    "import random\n",
    "\n",
    "def random_baseline_model(y_test):\n",
    "    \"\"\"Fuunction decides randomly on the labels. This will be a random baseline for the other algorithms\n",
    "\n",
    "    Args:\n",
    "        y_test (list): list of the test labels\n",
    "        \n",
    "    Returns\n",
    "        y_pred: list of random predictions\n",
    "    \"\"\"\n",
    "    y_pred = []\n",
    "    for pred in range(len(y_test)):\n",
    "        pred = random.randint(0,6)\n",
    "        y_pred.append(pred)\n",
    "        \n",
    "    return y_pred\n",
    "        "
   ]
  },
  {
   "cell_type": "markdown",
   "metadata": {},
   "source": [
    "## Display Results"
   ]
  },
  {
   "cell_type": "code",
   "execution_count": 18,
   "metadata": {},
   "outputs": [
    {
     "name": "stdout",
     "output_type": "stream",
     "text": [
      "Overall Test Accuracy: 14.49%\n"
     ]
    }
   ],
   "source": [
    "from sklearn.metrics import accuracy_score\n",
    "import numpy as np\n",
    "\n",
    "y_pred = random_baseline_model(y_test_raw)\n",
    "\n",
    "#y_pred_classes = np.argmax(y_pred, axis=1)\n",
    "overall_accuracy = accuracy_score(y_test_raw, y_pred)\n",
    "print(f'Overall Test Accuracy: {overall_accuracy*100:.2f}%')\n"
   ]
  }
 ],
 "metadata": {
  "kernelspec": {
   "display_name": ".venv",
   "language": "python",
   "name": "python3"
  },
  "language_info": {
   "codemirror_mode": {
    "name": "ipython",
    "version": 3
   },
   "file_extension": ".py",
   "mimetype": "text/x-python",
   "name": "python",
   "nbconvert_exporter": "python",
   "pygments_lexer": "ipython3",
   "version": "3.9.6"
  }
 },
 "nbformat": 4,
 "nbformat_minor": 2
}
