{
 "cells": [
  {
   "cell_type": "markdown",
   "metadata": {},
   "source": [
    "# Multi-Layer- Perceptron Algorithm"
   ]
  },
  {
   "cell_type": "markdown",
   "metadata": {},
   "source": [
    "## Load the Data"
   ]
  },
  {
   "cell_type": "code",
   "execution_count": null,
   "metadata": {},
   "outputs": [],
   "source": [
    "import pandas as pd\n",
    "\n",
    "# Load training data\n",
    "train_data = pd.read_csv('train_data.csv')\n",
    "X_train_raw = train_data['X_train'].tolist()\n",
    "y_train_raw = train_data['y_train'].tolist()\n",
    "\n",
    "# Load test data\n",
    "test_data = pd.read_csv('test_data.csv')\n",
    "X_test_raw = test_data['X_test'].tolist()\n",
    "y_test_raw = test_data['y_test'].tolist()"
   ]
  },
  {
   "cell_type": "markdown",
   "metadata": {},
   "source": [
    "## Vectorize your data and Encode Labels"
   ]
  },
  {
   "cell_type": "code",
   "execution_count": null,
   "metadata": {},
   "outputs": [],
   "source": [
    "from sklearn.feature_extraction.text import TfidfVectorizer\n",
    "from sklearn.preprocessing import LabelEncoder\n",
    "\n",
    "# Tokens Back into strings\n",
    "corpus_train = [' '.join(doc) for doc in X_train_raw]\n",
    "corpus_test = [' '.join(doc) for doc in X_test_raw]\n",
    "\n",
    "# Initialize a TF-IDF Vectorizer\n",
    "vectorizer = TfidfVectorizer(max_features=1000)\n",
    "X_train = vectorizer.fit_transform(corpus_train).toarray()\n",
    "X_test = vectorizer.fit_transform(corpus_test).toarray()\n",
    "\n",
    "# Now, X is a 2D numpy array where each row represents a document.\n",
    "encoder = LabelEncoder()\n",
    "y_train = encoder.fit_transform(y_train_raw)\n",
    "y_test = encoder.fit_transform(y_test_raw)\n",
    "\n"
   ]
  }
 ],
 "metadata": {
  "kernelspec": {
   "display_name": ".venv",
   "language": "python",
   "name": "python3"
  },
  "language_info": {
   "name": "python",
   "version": "3.9.6"
  }
 },
 "nbformat": 4,
 "nbformat_minor": 2
}
