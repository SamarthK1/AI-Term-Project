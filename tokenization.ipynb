{
 "cells": [
  {
   "cell_type": "markdown",
   "metadata": {},
   "source": [
    "# Tokenization of the Raw Text Data"
   ]
  },
  {
   "cell_type": "code",
   "execution_count": 1,
   "metadata": {},
   "outputs": [],
   "source": [
    "import pandas as pd\n",
    "\n",
    "# Path to the gzip-compressed JSON Lines file\n",
    "data_path = 'Data/data.jsonl.gz'\n",
    "\n",
    "# Load the compressed JSON Lines file into a Pandas DataFrame\n",
    "data_df = pd.read_json(data_path, lines=True, compression='gzip')\n",
    "\n",
    "# Assign the features and target variable\n",
    "X = data_df['text']  \n",
    "y = data_df['label'] \n"
   ]
  },
  {
   "cell_type": "markdown",
   "metadata": {},
   "source": [
    "## Tokenize the Text"
   ]
  },
  {
   "cell_type": "code",
   "execution_count": 2,
   "metadata": {},
   "outputs": [
    {
     "name": "stderr",
     "output_type": "stream",
     "text": [
      "[nltk_data] Downloading package stopwords to\n",
      "[nltk_data]     /Users/carlosrabat/nltk_data...\n",
      "[nltk_data]   Package stopwords is already up-to-date!\n",
      "[nltk_data] Downloading package punkt to\n",
      "[nltk_data]     /Users/carlosrabat/nltk_data...\n",
      "[nltk_data]   Package punkt is already up-to-date!\n"
     ]
    },
    {
     "name": "stdout",
     "output_type": "stream",
     "text": [
      "0\n",
      "100000\n",
      "200000\n",
      "300000\n",
      "400000\n"
     ]
    }
   ],
   "source": [
    "import nltk\n",
    "from nltk.tokenize import word_tokenize\n",
    "import numpy as np\n",
    "from nltk.corpus import stopwords\n",
    "from nltk.stem import PorterStemmer\n",
    "\n",
    "nltk.download('stopwords')\n",
    "nltk.download('punkt')\n",
    "\n",
    "# Tokenize the text and print the instance to check the loading time\n",
    "tokenized_texts = []\n",
    "count = 0\n",
    "for text in X:\n",
    "    tokenized_texts.append(word_tokenize(text))\n",
    "    if count % 100000 == 0:\n",
    "        print(count)\n",
    "    count += 1\n",
    "    \n"
   ]
  },
  {
   "cell_type": "code",
   "execution_count": 3,
   "metadata": {},
   "outputs": [],
   "source": [
    "# Process the Data, get rid of stop words, lower case the words and stem the tokens\n",
    "# Stemer is to reduce the words to their base form\n",
    "processed_texts = []\n",
    "stop_words = set(stopwords.words('english'))\n",
    "stemmer = PorterStemmer()\n",
    "\n",
    "for text in tokenized_texts:\n",
    "    current_tokens = []\n",
    "    for token in text:\n",
    "        token.lower()\n",
    "        if token not in stop_words:\n",
    "            stemmer.stem(token)\n",
    "            current_tokens.append(token)\n",
    "    processed_texts.append(current_tokens)"
   ]
  },
  {
   "cell_type": "markdown",
   "metadata": {},
   "source": [
    "## Example of Raw vs Processed"
   ]
  },
  {
   "cell_type": "code",
   "execution_count": 4,
   "metadata": {},
   "outputs": [
    {
     "name": "stdout",
     "output_type": "stream",
     "text": [
      "i feel awful about it too because it s my job to get him in a position to succeed and it just didn t happen here\n",
      "['feel', 'awful', 'job', 'get', 'position', 'succeed', 'happen']\n"
     ]
    }
   ],
   "source": [
    "print(X[0])\n",
    "print(processed_texts[0])"
   ]
  },
  {
   "cell_type": "markdown",
   "metadata": {},
   "source": [
    "## Training Set and Test Set"
   ]
  },
  {
   "cell_type": "code",
   "execution_count": 5,
   "metadata": {},
   "outputs": [],
   "source": [
    "from sklearn.model_selection import train_test_split\n",
    "\n",
    "\n",
    "# Split into training and test\n",
    "# Use random state 49 for reproducibility \n",
    "X_train, X_test, y_train, y_test = train_test_split(processed_texts, y, test_size=0.2, random_state=49)\n",
    "\n",
    "\n",
    "# Training Data\n",
    "df_train = pd.DataFrame({\n",
    "    'X_train': X_train,\n",
    "    'y_train': y_train\n",
    "})\n",
    "\n",
    "# Test Data\n",
    "df_test = pd.DataFrame({\n",
    "    'X_test': X_test,\n",
    "    'y_test': y_test\n",
    "})\n",
    "\n",
    "# Write to a csv file\n",
    "df_train.to_csv('train_data.csv', index=False)\n",
    "df_test.to_csv('test_data.csv', index=False)\n"
   ]
  },
  {
   "cell_type": "markdown",
   "metadata": {},
   "source": [
    "## Example on how to Load them "
   ]
  },
  {
   "cell_type": "code",
   "execution_count": 6,
   "metadata": {},
   "outputs": [],
   "source": [
    "# Load training data\n",
    "train_data = pd.read_csv('train_data.csv')\n",
    "X_train = train_data['X_train'].tolist()\n",
    "y_train = train_data['y_train'].tolist()\n",
    "\n",
    "# Load test data\n",
    "test_data = pd.read_csv('test_data.csv')\n",
    "X_test = test_data['X_test'].tolist()\n",
    "y_test = test_data['y_test'].tolist()"
   ]
  }
 ],
 "metadata": {
  "kernelspec": {
   "display_name": ".venv",
   "language": "python",
   "name": "python3"
  },
  "language_info": {
   "codemirror_mode": {
    "name": "ipython",
    "version": 3
   },
   "file_extension": ".py",
   "mimetype": "text/x-python",
   "name": "python",
   "nbconvert_exporter": "python",
   "pygments_lexer": "ipython3",
   "version": "3.9.6"
  }
 },
 "nbformat": 4,
 "nbformat_minor": 2
}
